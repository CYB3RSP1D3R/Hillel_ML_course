{
  "cells": [
    {
      "cell_type": "code",
      "execution_count": 1,
      "metadata": {
        "id": "8N4pruBWx4oo"
      },
      "outputs": [],
      "source": [
        "# Import library\n",
        "import numpy as np\n",
        "from numpy import pi"
      ]
    },
    {
      "cell_type": "code",
      "source": [
        "from google.colab import drive\n",
        "drive.mount('/content/drive')"
      ],
      "metadata": {
        "colab": {
          "base_uri": "https://localhost:8080/"
        },
        "id": "PKeQ4EKoLT_J",
        "outputId": "33a08324-5bdf-4ebe-ebc9-c3c465ecc475"
      },
      "execution_count": 2,
      "outputs": [
        {
          "output_type": "stream",
          "name": "stdout",
          "text": [
            "Drive already mounted at /content/drive; to attempt to forcibly remount, call drive.mount(\"/content/drive\", force_remount=True).\n"
          ]
        }
      ]
    },
    {
      "cell_type": "code",
      "source": [
        "try:\n",
        "    /content/drive/MyDrive\n",
        "except NameError:\n",
        "    pass"
      ],
      "metadata": {
        "id": "Jo3hiUGMAUBG"
      },
      "execution_count": 3,
      "outputs": []
    },
    {
      "cell_type": "code",
      "source": [
        "a = np.genfromtxt('https://archive.ics.uci.edu/ml/machine-learning-databases/iris/iris.data', dtype=float, delimiter=',')"
      ],
      "metadata": {
        "id": "Q4CBXlQWJ6tk"
      },
      "execution_count": 4,
      "outputs": []
    },
    {
      "cell_type": "markdown",
      "source": [
        "# 1. Знайти в датасеті таргет та видалити цю колонку з датасету (видаляти за індексом)"
      ],
      "metadata": {
        "id": "sYNg3gBr-Fyi"
      }
    },
    {
      "cell_type": "code",
      "source": [
        "a.shape"
      ],
      "metadata": {
        "colab": {
          "base_uri": "https://localhost:8080/"
        },
        "id": "XKMQNuqqK38M",
        "outputId": "15519b03-a19a-4d3c-c9e7-0fb15f8ceca8"
      },
      "execution_count": 5,
      "outputs": [
        {
          "output_type": "execute_result",
          "data": {
            "text/plain": [
              "(150, 5)"
            ]
          },
          "metadata": {},
          "execution_count": 5
        }
      ]
    },
    {
      "cell_type": "markdown",
      "source": [
        "Target column has `string` type, after type coercion its value will be Not a Number (NaN). So we can get its index by finding which cell of any row has `NaN` value using `numpy.isnan` function."
      ],
      "metadata": {
        "id": "J5rCAzL47F8c"
      }
    },
    {
      "cell_type": "code",
      "source": [
        "target_index = np.where(np.isnan(a[0]))[0][0]"
      ],
      "metadata": {
        "id": "J7-mU2xc5Stn"
      },
      "execution_count": 6,
      "outputs": []
    },
    {
      "cell_type": "code",
      "source": [
        "# a = a[:, : target_index]\n",
        "a = np.delete(a, target_index, axis=1)\n",
        "a.shape"
      ],
      "metadata": {
        "colab": {
          "base_uri": "https://localhost:8080/"
        },
        "id": "1bKh2iRl5MCx",
        "outputId": "05d97353-27cf-4897-e0ef-c4cd40f28cc2"
      },
      "execution_count": 7,
      "outputs": [
        {
          "output_type": "execute_result",
          "data": {
            "text/plain": [
              "(150, 4)"
            ]
          },
          "metadata": {},
          "execution_count": 7
        }
      ]
    },
    {
      "cell_type": "markdown",
      "source": [
        "# 2. Перетворити колонки, що залишились в 2D масив (або впевнитись, що це уже 2D масив)"
      ],
      "metadata": {
        "id": "5InqGyw0-PmZ"
      }
    },
    {
      "cell_type": "code",
      "source": [
        "# Just for checking purpose\n",
        "a = np.ravel(a)"
      ],
      "metadata": {
        "id": "BjTSqrMcAJM-"
      },
      "execution_count": 8,
      "outputs": []
    },
    {
      "cell_type": "code",
      "source": [
        "if a.ndim != 2:\n",
        "\n",
        "    # The number of columns is 4 according to the dataset\n",
        "    a = np.reshape(a.ravel(), (a.size // 4, 4))\n",
        "    print(f\"Reshaped dataset to 2-dimensional matrix with shape: {a.shape}\")\n",
        "else:\n",
        "    print(\"Dataset is already a 2-dimensional matrix\")"
      ],
      "metadata": {
        "colab": {
          "base_uri": "https://localhost:8080/"
        },
        "id": "lTcXP9w5-PLC",
        "outputId": "ba2bfc7e-7300-46e1-edd5-dc5cd4f7f713"
      },
      "execution_count": 9,
      "outputs": [
        {
          "output_type": "stream",
          "name": "stdout",
          "text": [
            "Reshaped dataset to 2-dimensional matrix with shape: (150, 4)\n"
          ]
        }
      ]
    },
    {
      "cell_type": "markdown",
      "source": [
        "# 3. Порахувати mean, median, standard deviation для 1-ї колонки"
      ],
      "metadata": {
        "id": "r0FiP5gwAq26"
      }
    },
    {
      "cell_type": "code",
      "source": [
        "print(f\"Mean of the first collumn is:\\t{a[:, 0].mean()}\")\n",
        "print(f\"Median of the first collumn is:\\t{np.median(a[:, 0])}\")\n",
        "print(f\"Std of the first collumn is:\\t{np.std(a[:, 0])}\")"
      ],
      "metadata": {
        "colab": {
          "base_uri": "https://localhost:8080/"
        },
        "id": "c_8JhYl6AsqA",
        "outputId": "b4efb0c3-7495-419d-c880-1102ba7ce635"
      },
      "execution_count": 10,
      "outputs": [
        {
          "output_type": "stream",
          "name": "stdout",
          "text": [
            "Mean of the first collumn is:\t5.843333333333334\n",
            "Median of the first collumn is:\t5.8\n",
            "Std of the first collumn is:\t0.8253012917851409\n"
          ]
        }
      ]
    },
    {
      "cell_type": "markdown",
      "source": [
        "# 4. Вставити 20 значень np.nan на випадкові позиції в масиві (при використанні звичайного рандому можуть накластись позиції, тому знайти рішення, яке гарантує 20 унікальних позицій)"
      ],
      "metadata": {
        "id": "62f8CGZwDud_"
      }
    },
    {
      "cell_type": "code",
      "source": [
        "rng = np.random.default_rng()\n",
        "nan_rows = rng.choice(a.shape[0], size=20, replace=False)\n",
        "nan_cols = rng.choice(a.shape[1], size=20)\n",
        "a[nan_rows, nan_cols] = np.nan"
      ],
      "metadata": {
        "id": "Ab2am3sLDygM"
      },
      "execution_count": 11,
      "outputs": []
    },
    {
      "cell_type": "markdown",
      "source": [
        "# 5. Знайти позиції вставлених значень np.nan в 1-й колонці"
      ],
      "metadata": {
        "id": "7UKjQytduwEW"
      }
    },
    {
      "cell_type": "code",
      "source": [
        "np.where(np.isnan(a[:, 0]))[0]"
      ],
      "metadata": {
        "colab": {
          "base_uri": "https://localhost:8080/"
        },
        "id": "_v010JaZuzIQ",
        "outputId": "898fa706-fd28-4898-a466-b95f98ddb3e8"
      },
      "execution_count": 12,
      "outputs": [
        {
          "output_type": "execute_result",
          "data": {
            "text/plain": [
              "array([  3,  23, 113, 117, 128, 136, 148])"
            ]
          },
          "metadata": {},
          "execution_count": 12
        }
      ]
    },
    {
      "cell_type": "markdown",
      "source": [
        "# 6. Відфільтрувати массив за умовою: значення в 3-й колонці > 1.5 та значения в 1-й колонці < 5.0 (зберегти у іншу змінну)"
      ],
      "metadata": {
        "id": "3CpdOpV2wIEc"
      }
    },
    {
      "cell_type": "code",
      "source": [
        "a[(a[:, 2] > 1.5) & (a[:, 0] < 5.0)]"
      ],
      "metadata": {
        "colab": {
          "base_uri": "https://localhost:8080/"
        },
        "id": "IlOX6g5AwMuZ",
        "outputId": "14bc030a-355d-4a37-c74e-f91d2aa4f718"
      },
      "execution_count": 13,
      "outputs": [
        {
          "output_type": "execute_result",
          "data": {
            "text/plain": [
              "array([[4.8, 3.4, 1.6, 0.2],\n",
              "       [4.8, 3.4, 1.9, 0.2],\n",
              "       [4.7, 3.2, 1.6, 0.2],\n",
              "       [4.8, nan, 1.6, 0.2],\n",
              "       [4.9, 2.4, 3.3, 1. ],\n",
              "       [4.9, 2.5, 4.5, 1.7]])"
            ]
          },
          "metadata": {},
          "execution_count": 13
        }
      ]
    },
    {
      "cell_type": "markdown",
      "source": [
        "# 7. Замінити всі значення np.nan на 0"
      ],
      "metadata": {
        "id": "HxwGNdi5v6bf"
      }
    },
    {
      "cell_type": "markdown",
      "source": [],
      "metadata": {
        "id": "gG6aQ8sEv6KO"
      }
    },
    {
      "cell_type": "code",
      "source": [
        "a[np.isnan(a)] = 0"
      ],
      "metadata": {
        "id": "Ho3bElewv81R"
      },
      "execution_count": 14,
      "outputs": []
    },
    {
      "cell_type": "markdown",
      "source": [
        "# 8. Порахувати всі унікальні значення в массиві та вивести їх разом із кількістю"
      ],
      "metadata": {
        "id": "sDys2EGP0vFx"
      }
    },
    {
      "cell_type": "code",
      "source": [
        "unique_values, unique_counts = np.unique(a, return_counts=True)\n",
        "unique_values, unique_counts"
      ],
      "metadata": {
        "colab": {
          "base_uri": "https://localhost:8080/"
        },
        "id": "WYnUpKhu0wpA",
        "outputId": "303f8363-15b6-43a3-dbfb-9349cfb98940"
      },
      "execution_count": 15,
      "outputs": [
        {
          "output_type": "execute_result",
          "data": {
            "text/plain": [
              "(array([0. , 0.1, 0.2, 0.3, 0.4, 0.5, 0.6, 1. , 1.1, 1.2, 1.3, 1.4, 1.5,\n",
              "        1.6, 1.7, 1.8, 1.9, 2. , 2.1, 2.2, 2.3, 2.4, 2.5, 2.6, 2.7, 2.8,\n",
              "        2.9, 3. , 3.1, 3.2, 3.3, 3.4, 3.5, 3.6, 3.7, 3.8, 3.9, 4. , 4.1,\n",
              "        4.2, 4.3, 4.4, 4.5, 4.6, 4.7, 4.8, 4.9, 5. , 5.1, 5.2, 5.3, 5.4,\n",
              "        5.5, 5.6, 5.7, 5.8, 5.9, 6. , 6.1, 6.2, 6.3, 6.4, 6.5, 6.6, 6.7,\n",
              "        6.8, 6.9, 7. , 7.1, 7.2, 7.3, 7.4, 7.6, 7.7, 7.9]),\n",
              " array([20,  6, 28,  7,  7,  1,  1,  8,  4,  7, 20, 19, 25, 11,  6, 12,  6,\n",
              "         7,  6,  4, 12,  6, 10,  5,  9, 14, 10, 27, 10, 13,  8, 12,  8,  4,\n",
              "         4,  5,  5,  6,  4,  5,  3,  8,  9,  5,  7,  9, 10, 14, 16,  6,  3,\n",
              "         8, 10, 11, 10, 10,  5,  8,  9,  3,  9,  7,  5,  3, 10,  3,  5,  1,\n",
              "         1,  3,  1,  1,  1,  3,  1]))"
            ]
          },
          "metadata": {},
          "execution_count": 15
        }
      ]
    },
    {
      "cell_type": "markdown",
      "source": [
        "# 9. Розбити масив по вертикалі на 2 рівні частини (не використовувати абсолютні числа, мають бути два массиви по 4 колонки)"
      ],
      "metadata": {
        "id": "wz2atLbH7E50"
      }
    },
    {
      "cell_type": "code",
      "source": [
        "lower, upper = np.split(a, 2)"
      ],
      "metadata": {
        "id": "hUlavzH07LPy"
      },
      "execution_count": 16,
      "outputs": []
    },
    {
      "cell_type": "code",
      "source": [
        "print(f\"{a.shape} = {lower.shape} + {upper.shape}\")"
      ],
      "metadata": {
        "colab": {
          "base_uri": "https://localhost:8080/"
        },
        "id": "meSIjmSn7sOh",
        "outputId": "620f437c-86f1-400f-e3c2-8cc77f7fcc71"
      },
      "execution_count": 17,
      "outputs": [
        {
          "output_type": "stream",
          "name": "stdout",
          "text": [
            "(150, 4) = (75, 4) + (75, 4)\n"
          ]
        }
      ]
    },
    {
      "cell_type": "markdown",
      "source": [
        "# 10. Відсортувати обидва массиви по 1-й колонці: 1-й за збільшенням, 2-й за зменшенням"
      ],
      "metadata": {
        "id": "ckRgFyA08vUf"
      }
    },
    {
      "cell_type": "code",
      "source": [
        "lower = lower[lower[:, 0].argsort()]"
      ],
      "metadata": {
        "id": "IR68Z4_t8xy4"
      },
      "execution_count": 18,
      "outputs": []
    },
    {
      "cell_type": "code",
      "source": [
        "print(f\"{lower[0, 0]} = {lower.min(axis=0)[0]}, {lower[-1, 0]} = {lower.max(axis=0)[0]}\")"
      ],
      "metadata": {
        "colab": {
          "base_uri": "https://localhost:8080/"
        },
        "id": "Hv-xtmkhBDLE",
        "outputId": "6caffdc8-08f8-43d2-f1bf-d056f0f7cbde"
      },
      "execution_count": 19,
      "outputs": [
        {
          "output_type": "stream",
          "name": "stdout",
          "text": [
            "0.0 = 0.0, 7.0 = 7.0\n"
          ]
        }
      ]
    },
    {
      "cell_type": "code",
      "source": [
        "upper = upper[(-upper[:, 0]).argsort()]\n",
        "# upper = upper[upper[:, 0].argsort()[::-1]]"
      ],
      "metadata": {
        "id": "-mMxlMf4C0FX"
      },
      "execution_count": 20,
      "outputs": []
    },
    {
      "cell_type": "code",
      "source": [
        "print(f\"{upper[-1, 0]} = {upper.min(axis=0)[0]}, {upper[0, 0]} = {upper.max(axis=0)[0]}\")"
      ],
      "metadata": {
        "colab": {
          "base_uri": "https://localhost:8080/"
        },
        "id": "rEiVUI2tC7u-",
        "outputId": "34cb8adb-2f6d-4f88-d16c-7e70d7ea4a9f"
      },
      "execution_count": 21,
      "outputs": [
        {
          "output_type": "stream",
          "name": "stdout",
          "text": [
            "0.0 = 0.0, 7.9 = 7.9\n"
          ]
        }
      ]
    },
    {
      "cell_type": "markdown",
      "source": [
        "# 11. Зібрати обидва массиви в одне ціле"
      ],
      "metadata": {
        "id": "6PKQ4lwbD6NJ"
      }
    },
    {
      "cell_type": "code",
      "source": [
        "new_arr = np.vstack((lower, upper))\n",
        "print(new_arr.shape == a.shape)"
      ],
      "metadata": {
        "colab": {
          "base_uri": "https://localhost:8080/"
        },
        "id": "KiG13iAcD85M",
        "outputId": "2c3a23c2-bb57-4632-9eea-5d3df326eb43"
      },
      "execution_count": 22,
      "outputs": [
        {
          "output_type": "stream",
          "name": "stdout",
          "text": [
            "True\n"
          ]
        }
      ]
    },
    {
      "cell_type": "markdown",
      "source": [
        "# 12. Знайти найбільш часто повторюване значення в массиві"
      ],
      "metadata": {
        "id": "srvEjk-oEZMD"
      }
    },
    {
      "cell_type": "markdown",
      "source": [
        "Since we have unique values and their counts from (8), let's just find the argmax of the counts and use this index for unique values. After that let's check the result with `scipy.stats.mode` function result as the reference."
      ],
      "metadata": {
        "id": "16HB-ZOaF1tK"
      }
    },
    {
      "cell_type": "code",
      "source": [
        "from scipy import stats\n",
        "print(\n",
        "    unique_values[np.argmax(unique_counts)],\n",
        "    unique_values[np.argmax(unique_counts)] == stats.mode(a, axis=None).mode\n",
        ")"
      ],
      "metadata": {
        "colab": {
          "base_uri": "https://localhost:8080/"
        },
        "id": "zgjmSA1SEYvU",
        "outputId": "b3d8afc5-7f2d-44ea-e298-bedcb537bb5b"
      },
      "execution_count": 23,
      "outputs": [
        {
          "output_type": "stream",
          "name": "stdout",
          "text": [
            "0.2 True\n"
          ]
        }
      ]
    },
    {
      "cell_type": "markdown",
      "source": [
        "# 13. Написати функцію, яка б множила всі значення в колонці, які менше середнього значения в цій колонці, на 2, і ділила інші значення на 4."
      ],
      "metadata": {
        "id": "fn3ODEBzG2VR"
      }
    },
    {
      "cell_type": "code",
      "source": [
        "def func(arr):\n",
        "    assert arr.ndim == 1\n",
        "    mask = arr < arr.mean()\n",
        "    arr[mask] *= 2.0\n",
        "    arr[~mask] /= 4.0\n",
        "    return arr"
      ],
      "metadata": {
        "id": "ykvvBGQpG5K5"
      },
      "execution_count": 24,
      "outputs": []
    },
    {
      "cell_type": "markdown",
      "source": [
        "# 14. Застосувати отриману функцію до 3-ї колонки\n"
      ],
      "metadata": {
        "id": "m7dgGHd8I4Ca"
      }
    },
    {
      "cell_type": "code",
      "source": [
        "print(new_arr[2])\n",
        "new_arr[2] = func(new_arr[2])\n",
        "print(new_arr[2])"
      ],
      "metadata": {
        "colab": {
          "base_uri": "https://localhost:8080/"
        },
        "id": "eJkDzK2gHxpA",
        "outputId": "8947421d-0ad6-4156-aea7-d209a1530ee9"
      },
      "execution_count": 25,
      "outputs": [
        {
          "output_type": "stream",
          "name": "stdout",
          "text": [
            "[4.3 3.  1.1 0.1]\n",
            "[1.075 0.75  2.2   0.2  ]\n"
          ]
        }
      ]
    }
  ],
  "metadata": {
    "kernelspec": {
      "display_name": "Python 3",
      "language": "python",
      "name": "python3"
    },
    "language_info": {
      "codemirror_mode": {
        "name": "ipython",
        "version": 3
      },
      "file_extension": ".py",
      "mimetype": "text/x-python",
      "name": "python",
      "nbconvert_exporter": "python",
      "pygments_lexer": "ipython3",
      "version": "3.7.1"
    },
    "colab": {
      "provenance": []
    }
  },
  "nbformat": 4,
  "nbformat_minor": 0
}